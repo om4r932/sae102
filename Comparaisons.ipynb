{
 "cells": [
  {
   "cell_type": "markdown",
   "metadata": {},
   "source": [
    "# Comparaisons théoriques et expérimentales\n",
    "\n",
    "Ce notebook se portera uniquement sur les questions n°2 et n°11"
   ]
  },
  {
   "cell_type": "code",
   "execution_count": 2,
   "metadata": {},
   "outputs": [],
   "source": [
    "from time import time\n",
    "from random import *\n",
    "from matplotlib.pyplot import plot, show, legend, xlabel, ylabel"
   ]
  },
  {
   "cell_type": "markdown",
   "metadata": {},
   "source": [
    "### Q2 :\n",
    "#### Comparaison des fonctions create_network et dico_reseau"
   ]
  },
  {
   "cell_type": "markdown",
   "metadata": {},
   "source": [
    "##### Théorique :\n",
    "\n",
    "    create_network => Linéaire\n",
    "    \n",
    "    dico_reseau => Quadratique"
   ]
  },
  {
   "cell_type": "markdown",
   "metadata": {},
   "source": [
    "##### Expérimental"
   ]
  },
  {
   "cell_type": "code",
   "execution_count": 21,
   "metadata": {},
   "outputs": [],
   "source": [
    "from community_detection import *\n",
    "\n",
    "amis = get_people(dico_reseau(lecture_reseau(\"files/Communaute3.csv\")))\n",
    "\n",
    "def mesure_create_network(n):\n",
    "    tab = [amis[randint(0, len(amis) // 2)] for i in range(n)]\n",
    "    temps = 0.\n",
    "    i = 0\n",
    "    while i < 100:\n",
    "        depart = time()\n",
    "        create_network(tab)\n",
    "        temps += time()-depart\n",
    "        i += 1\n",
    "    return temps / 100\n",
    "\n",
    "def mesure_dico_reseau(n):\n",
    "    tab = [amis[randint(0, len(amis) // 2)] for i in range(n)]\n",
    "    temps = 0.\n",
    "    i = 0\n",
    "    while i < 100:\n",
    "        depart = time()\n",
    "        dico_reseau(tab)\n",
    "        temps += time()-depart\n",
    "        i += 1\n",
    "    return temps / 100\n",
    "\n",
    "tailles = [2000, 4000, 6000, 8000, 10000, 12000, 14000, 16000, 18000, 20000]\n",
    "\n",
    "\n",
    "tps1 = []\n",
    "tps2 = []\n",
    "i = 0\n",
    "while i < len(tailles):\n",
    "    tps1.append(mesure_create_network(tailles[i]))\n",
    "    tps2.append(mesure_dico_reseau(tailles[i]))\n",
    "    i += 1"
   ]
  },
  {
   "cell_type": "code",
   "execution_count": 27,
   "metadata": {},
   "outputs": [
    {
     "data": {
      "text/plain": [
       "<matplotlib.legend.Legend at 0x22fd95f82e0>"
      ]
     },
     "execution_count": 27,
     "metadata": {},
     "output_type": "execute_result"
    },
    {
     "data": {
      "image/png": "[encoded data removed]",
      "text/plain": [
       "<Figure size 432x288 with 1 Axes>"
      ]
     },
     "metadata": {
      "needs_background": "light"
     },
     "output_type": "display_data"
    }
   ],
   "source": [
    "%matplotlib inline\n",
    "\n",
    "plot(tailles, tps1, \"b\", label=\"create_network()\")\n",
    "plot(tailles, tps2, \"r\", label=\"dico_reseau()\")\n",
    "\n",
    "\n",
    "xlabel(\"Tailles des tableaux\")\n",
    "ylabel(\"Tps d'exécution en secondes\")\n",
    "legend()"
   ]
  }
 ],
 "metadata": {
  "kernelspec": {
   "display_name": "Python 3.8.10 64-bit",
   "language": "python",
   "name": "python3"
  },
  "language_info": {
   "codemirror_mode": {
    "name": "ipython",
    "version": 3
   },
   "file_extension": ".py",
   "mimetype": "text/x-python",
   "name": "python",
   "nbconvert_exporter": "python",
   "pygments_lexer": "ipython3",
   "version": "3.8.10"
  },
  "vscode": {
   "interpreter": {
    "hash": "8557bb6923ec8424c22ff9a6a0d1acdcbda071d4c0e099c0cb1fde8d3de7f7a4"
   }
  }
 },
 "nbformat": 4,
 "nbformat_minor": 2
}
